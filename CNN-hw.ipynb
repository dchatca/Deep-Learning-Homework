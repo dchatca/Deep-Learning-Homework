{
 "cells": [
  {
   "cell_type": "code",
   "execution_count": 2,
   "id": "1e54d850",
   "metadata": {},
   "outputs": [],
   "source": [
    "import numpy as np\n",
    "import matplotlib.pyplot as plt\n",
    "from sklearn.preprocessing import PolynomialFeatures\n",
    "from sklearn.linear_model import LinearRegression\n",
    "from sklearn.metrics import mean_squared_error\n",
    "import torch\n",
    "import torch.nn as nn\n",
    "import torch.optim as optim\n",
    "import torchvision.transforms as transforms\n",
    "import torchvision.datasets as datasets"
   ]
  },
  {
   "cell_type": "markdown",
   "id": "3b8e88c0",
   "metadata": {},
   "source": [
    "Câu 1:\n",
    "Tạo ra 1 bộ dataset từ 10 điểm dữ liệu sinh ra từ hàm y = x^2 + noise. Dùng sklearn fit hàm đa thức bậc 9 với dữ liệu trên. Sau đó thêm 100 dữ liệu nữa xem hàm đa thức bậc 9 như nào?\n",
    "* Hãy báo cáo MSE và vẽ đồ thị trong hai trường hợp (10 điểm dữ liệu ban đầu và 100 điểm dữ liệu sau)\n",
    "* Hiện tượng gì đang xảy ra?\n"
   ]
  },
  {
   "cell_type": "code",
   "execution_count": 12,
   "id": "256a331c",
   "metadata": {},
   "outputs": [
    {
     "name": "stdout",
     "output_type": "stream",
     "text": [
      "MSE with 10 data points: 1.1897694157924586e-28\n",
      "MSE with 100 data points: 0.0853311542198226\n"
     ]
    },
    {
     "data": {
      "image/png": "[encoded data removed]",
      "text/plain": [
       "<Figure size 432x288 with 1 Axes>"
      ]
     },
     "metadata": {
      "needs_background": "light"
     },
     "output_type": "display_data"
    }
   ],
   "source": [
    "np.random.seed(0)\n",
    "noise = np.random.normal(0, 0.1, 10)\n",
    "\n",
    "# Tạo dữ liệu ban đầu\n",
    "x = np.linspace(-1, 1, 10)\n",
    "y = x**2 + noise\n",
    "\n",
    "# Đưa dữ liệu vào mảng numpy 2D\n",
    "x = x.reshape(-1, 1)\n",
    "y = y.reshape(-1, 1)\n",
    "\n",
    "# Fit hàm đa thức bậc 9\n",
    "poly = PolynomialFeatures(degree=9)\n",
    "x_poly = poly.fit_transform(x)\n",
    "\n",
    "regressor = LinearRegression()\n",
    "regressor.fit(x_poly, y)\n",
    "\n",
    "# Thêm 100 điểm dữ liệu mới\n",
    "new_x = np.linspace(-1, 1, 100)\n",
    "new_y = new_x**2\n",
    "\n",
    "# Đưa dữ liệu mới vào mảng numpy 2D\n",
    "new_x = new_x.reshape(-1, 1)\n",
    "\n",
    "# Dự đoán giá trị mới\n",
    "new_x_poly = poly.fit_transform(new_x)\n",
    "new_y_poly = regressor.predict(new_x_poly)\n",
    "\n",
    "# Tính MSE và vẽ đồ thị\n",
    "mse_10_points = mean_squared_error(y, regressor.predict(x_poly))\n",
    "mse_100_points = mean_squared_error(new_y, new_y_poly)\n",
    "\n",
    "print(\"MSE with 10 data points:\", mse_10_points)\n",
    "print(\"MSE with 100 data points:\", mse_100_points)\n",
    "\n",
    "plt.scatter(x, y, color='red', label='Original Data')\n",
    "plt.plot(new_x, new_y_poly, color='blue', linewidth=2, label='Polynomial Fit (9th degree)')\n",
    "plt.xlabel('x')\n",
    "plt.ylabel('y')\n",
    "plt.legend()\n",
    "plt.show()"
   ]
  },
  {
   "cell_type": "markdown",
   "id": "4e6ae9b1",
   "metadata": {},
   "source": [
    "Câu 2: Code from scratch\n",
    "Implement hàm tính convolution\n",
    "* Input: X, W, stride, padding\n",
    "* Output: Y\n",
    "Kiểm tra lại với hàm tính convolution được implement trong thư viện Pytorch"
   ]
  },
  {
   "cell_type": "code",
   "execution_count": 13,
   "id": "c140035f",
   "metadata": {},
   "outputs": [],
   "source": [
    "def convolution(X, W, stride=1, padding=0):\n",
    "    # Get the dimensions of the input\n",
    "    batch_size, in_channels, input_height, input_width = X.shape\n",
    "    \n",
    "    # Get the dimensions of the kernel\n",
    "    _, _, kernel_height, kernel_width = W.shape\n",
    "    \n",
    "    # Add padding to the input\n",
    "    padded_height = input_height + 2 * padding\n",
    "    padded_width = input_width + 2 * padding\n",
    "    padded_X = np.pad(X, ((0, 0), (0, 0), (padding, padding), (padding, padding)), mode='constant')\n",
    "    \n",
    "    # Calculate the output dimensions\n",
    "    output_height = (padded_height - kernel_height) // stride + 1\n",
    "    output_width = (padded_width - kernel_width) // stride + 1\n",
    "    \n",
    "    # Initialize the output\n",
    "    Y = np.zeros((batch_size, W.shape[0], output_height, output_width))\n",
    "    \n",
    "    # Perform convolution\n",
    "    for b in range(batch_size):\n",
    "        for c in range(W.shape[0]):\n",
    "            for h in range(0, padded_height - kernel_height + 1, stride):\n",
    "                for w in range(0, padded_width - kernel_width + 1, stride):\n",
    "                    Y[b, c, h // stride, w // stride] = np.sum(padded_X[b, :, h:h+kernel_height, w:w+kernel_width] * W[c])\n",
    "    \n",
    "    return Y"
   ]
  },
  {
   "cell_type": "code",
   "execution_count": 14,
   "id": "886e7158",
   "metadata": {},
   "outputs": [
    {
     "name": "stdout",
     "output_type": "stream",
     "text": [
      "Custom Convolution Output:\n",
      "[[[[-0.80576527  0.44920373 -5.20315838]\n",
      "   [ 2.11867046  9.28183937 -0.48807108]\n",
      "   [ 0.94170785 -0.95062971 -1.12486923]]\n",
      "\n",
      "  [[-3.26701021  3.15847158 -0.58712626]\n",
      "   [-2.58679175  3.78024173 -2.48159194]\n",
      "   [ 5.89360666  2.07791805  7.04358101]]\n",
      "\n",
      "  [[-5.34632111  3.04598093 -5.62857914]\n",
      "   [ 6.85946417 -6.92725182 -1.3360908 ]\n",
      "   [-1.21650529 -7.10776901  2.81507969]]\n",
      "\n",
      "  [[10.9365139  -1.35792458  9.63267136]\n",
      "   [-4.2753129   7.87466145 -8.86046791]\n",
      "   [ 8.12799263 -5.08057928 -0.50827998]]]]\n",
      "PyTorch Convolution Output:\n",
      "[[[[-0.66914     0.58582807 -5.066534  ]\n",
      "   [ 2.2552943   9.418463   -0.35144603]\n",
      "   [ 1.0783322  -0.814005   -0.9882449 ]]\n",
      "\n",
      "  [[-3.3617887   3.063693   -0.6819036 ]\n",
      "   [-2.68157     3.6854634  -2.57637   ]\n",
      "   [ 5.798828    1.98314     6.9488034 ]]\n",
      "\n",
      "  [[-5.3761077   3.016195   -5.6583643 ]\n",
      "   [ 6.829679   -6.957037   -1.3658755 ]\n",
      "   [-1.2462909  -7.137554    2.7852943 ]]\n",
      "\n",
      "  [[10.986177   -1.3082608   9.682335  ]\n",
      "   [-4.225648    7.924326   -8.810802  ]\n",
      "   [ 8.177657   -5.0309153  -0.45861554]]]]\n"
     ]
    }
   ],
   "source": [
    "input_tensor = torch.randn(1, 3, 5, 5)\n",
    "weight_tensor = torch.randn(4, 3, 3, 3)\n",
    "\n",
    "# Convert input tensor and weight tensor to numpy arrays\n",
    "np_input = input_tensor.numpy()\n",
    "np_weights = weight_tensor.numpy()\n",
    "\n",
    "# Perform convolution using the custom function\n",
    "np_output = convolution(np_input, np_weights)\n",
    "\n",
    "# Convert input and weight tensors to PyTorch format\n",
    "input_tensor = torch.from_numpy(np_input)\n",
    "weight_tensor = torch.from_numpy(np_weights)\n",
    "\n",
    "# Define the convolution layer in PyTorch\n",
    "conv_layer = nn.Conv2d(3, 4, kernel_size=3)\n",
    "conv_layer.weight.data = weight_tensor\n",
    "\n",
    "# Perform convolution using the PyTorch function\n",
    "torch_output = conv_layer(input_tensor).detach().numpy()\n",
    "\n",
    "# Compare the outputs\n",
    "print('Custom Convolution Output:')\n",
    "print(np_output)\n",
    "print('PyTorch Convolution Output:')\n",
    "print(torch_output)"
   ]
  },
  {
   "cell_type": "markdown",
   "id": "3f823ad3",
   "metadata": {},
   "source": [
    "Câu 3:\n",
    "Cho dataset CIFAR-10\n",
    "* Implement 1 model tương tự VGG16 (có thể nông hơn) với dữ liệu trên sử dụng Pytorch\n",
    "* Chỉnh learning rate, vẽ đồ thị loss tương ứng.\n",
    "* Chia tập train/test tỉ lệ 80/20, tính các chỉ số accuracy, recall, f1-score trên tập test.\n"
   ]
  },
  {
   "cell_type": "code",
   "execution_count": 15,
   "id": "7c93d065",
   "metadata": {},
   "outputs": [],
   "source": [
    "class VGG(nn.Module):\n",
    "    def __init__(self, num_classes=10):\n",
    "        super(VGG, self).__init__()\n",
    "        \n",
    "        self.features = nn.Sequential(\n",
    "            nn.Conv2d(3, 64, kernel_size=3, padding=1),\n",
    "            nn.ReLU(inplace=True),\n",
    "            nn.Conv2d(64, 64, kernel_size=3, padding=1),\n",
    "            nn.ReLU(inplace=True),\n",
    "            nn.MaxPool2d(kernel_size=2, stride=2),\n",
    "            \n",
    "            nn.Conv2d(64, 128, kernel_size=3, padding=1),\n",
    "            nn.ReLU(inplace=True),\n",
    "            nn.Conv2d(128, 128, kernel_size=3, padding=1),\n",
    "            nn.ReLU(inplace=True),\n",
    "            nn.MaxPool2d(kernel_size=2, stride=2),\n",
    "            \n",
    "            nn.Conv2d(128, 256, kernel_size=3, padding=1),\n",
    "            nn.ReLU(inplace=True),\n",
    "            nn.Conv2d(256, 256, kernel_size=3, padding=1),\n",
    "            nn.ReLU(inplace=True),\n",
    "            nn.Conv2d(256, 256, kernel_size=3, padding=1),\n",
    "            nn.ReLU(inplace=True),\n",
    "            nn.MaxPool2d(kernel_size=2, stride=2),\n",
    "            \n",
    "            nn.Conv2d(256, 512, kernel_size=3, padding=1),\n",
    "            nn.ReLU(inplace=True),\n",
    "            nn.Conv2d(512, 512, kernel_size=3, padding=1),\n",
    "            nn.ReLU(inplace=True),\n",
    "            nn.Conv2d(512, 512, kernel_size=3, padding=1),\n",
    "            nn.ReLU(inplace=True),\n",
    "            nn.MaxPool2d(kernel_size=2, stride=2),\n",
    "            \n",
    "            nn.Conv2d(512, 512, kernel_size=3, padding=1),\n",
    "            nn.ReLU(inplace=True),\n",
    "            nn.Conv2d(512, 512, kernel_size=3, padding=1),\n",
    "            nn.ReLU(inplace=True),\n",
    "            nn.Conv2d(512, 512, kernel_size=3, padding=1),\n",
    "            nn.ReLU(inplace=True),\n",
    "            nn.MaxPool2d(kernel_size=2, stride=2)\n",
    "        )\n",
    "        \n",
    "        self.avgpool = nn.AdaptiveAvgPool2d((7, 7))\n",
    "        \n",
    "        self.classifier = nn.Sequential(\n",
    "            nn.Linear(512 * 7 * 7, 4096),\n",
    "            nn.ReLU(inplace=True),\n",
    "            nn.Dropout(),\n",
    "            \n",
    "            nn.Linear(4096, 4096),\n",
    "            nn.ReLU(inplace=True),\n",
    "            nn.Dropout(),\n",
    "            \n",
    "            nn.Linear(4096, num_classes)\n",
    "        )\n",
    "        \n",
    "    def forward(self, x):\n",
    "        x = self.features(x)\n",
    "        x = self.avgpool(x)\n",
    "        x = torch.flatten(x, 1)\n",
    "        x = self.classifier(x)\n",
    "        \n",
    "        return x"
   ]
  },
  {
   "cell_type": "code",
   "execution_count": 16,
   "id": "61e19956",
   "metadata": {},
   "outputs": [],
   "source": [
    "class VGG16_Shallow(nn.Module):\n",
    "    def __init__(self, num_classes=10):\n",
    "        super(VGG16_Shallow, self).__init__()\n",
    "\n",
    "        self.features = nn.Sequential(\n",
    "            nn.Conv2d(3, 64, kernel_size=3, padding=1),\n",
    "            nn.ReLU(inplace=True),\n",
    "            nn.MaxPool2d(kernel_size=2, stride=2),\n",
    "\n",
    "            nn.Conv2d(64, 128, kernel_size=3, padding=1),\n",
    "            nn.ReLU(inplace=True),\n",
    "            nn.MaxPool2d(kernel_size=2, stride=2)\n",
    "        )\n",
    "\n",
    "        self.avgpool = nn.AdaptiveAvgPool2d((7, 7))\n",
    "\n",
    "        self.classifier = nn.Sequential(\n",
    "            nn.Linear(128 * 7 * 7, 4096),\n",
    "            nn.ReLU(inplace=True),\n",
    "            nn.Dropout(),\n",
    "\n",
    "            nn.Linear(4096, num_classes)\n",
    "        )\n",
    "\n",
    "    def forward(self, x):\n",
    "        x = self.features(x)\n",
    "        x = self.avgpool(x)\n",
    "        x = torch.flatten(x, 1)\n",
    "        x = self.classifier(x)\n",
    "\n",
    "        return x"
   ]
  },
  {
   "cell_type": "code",
   "execution_count": 17,
   "id": "4daf4771",
   "metadata": {},
   "outputs": [],
   "source": [
    "batch_size = 64 #train on batches of 64 examples at a time.\n",
    "learning_rate = [0.001, 0.000000001, 1]\n",
    "num_epochs = 10"
   ]
  },
  {
   "cell_type": "code",
   "execution_count": 18,
   "id": "7fd2138a",
   "metadata": {},
   "outputs": [],
   "source": [
    "#num_epochs = 10\n",
    "#batch_size = 64\n",
    "#learning_rate = 0.001\n",
    "device = torch.device('cuda' if torch.cuda.is_available() else 'cpu')"
   ]
  },
  {
   "cell_type": "code",
   "execution_count": 19,
   "id": "b240d07d",
   "metadata": {},
   "outputs": [
    {
     "name": "stdout",
     "output_type": "stream",
     "text": [
      "Files already downloaded and verified\n",
      "Files already downloaded and verified\n",
      "Files already downloaded and verified\n"
     ]
    }
   ],
   "source": [
    "transform = transforms.Compose([\n",
    "    transforms.RandomHorizontalFlip(),\n",
    "    transforms.ToTensor(),\n",
    "    transforms.Normalize((0.5, 0.5, 0.5), (0.5, 0.5, 0.5))\n",
    "])\n",
    "\n",
    "train_dataset = datasets.CIFAR10(root='./data', train=True, transform=transform, download=True)\n",
    "val_dataset = datasets.CIFAR10(root='./data', train=False, transform=transform,download=True)\n",
    "test_dataset = datasets.CIFAR10(root='./data', train=False, transform=transform, download=True)\n",
    "\n",
    "num_train_samples = int(len(train_dataset) * 0.8)\n",
    "num_val_samples = len(train_dataset) - num_train_samples\n",
    "\n",
    "train_loader = torch.utils.data.DataLoader(dataset=train_dataset, batch_size=batch_size, shuffle=True)\n",
    "val_loader = torch.utils.data.DataLoader(dataset=val_dataset, batch_size=batch_size, shuffle=False)\n",
    "test_loader = torch.utils.data.DataLoader(dataset=test_dataset, batch_size=batch_size, shuffle=False)"
   ]
  },
  {
   "cell_type": "code",
   "execution_count": null,
   "id": "42f5341a",
   "metadata": {},
   "outputs": [],
   "source": [
    "model = VGG16_Shallow().to(device)\n",
    "criterion = nn.CrossEntropyLoss()\n",
    "optimizer = optim.Adam(model.parameters(), lr=learning_rate)"
   ]
  },
  {
   "cell_type": "code",
   "execution_count": 20,
   "id": "fac4dd64",
   "metadata": {},
   "outputs": [
    {
     "name": "stdout",
     "output_type": "stream",
     "text": [
      "Learning Rate: 0.001, Epoch [1/5], Train Loss: 1.4410, Val Loss: 1.1621\n",
      "Learning Rate: 0.001, Epoch [2/5], Train Loss: 1.0663, Val Loss: 0.9692\n",
      "Learning Rate: 0.001, Epoch [3/5], Train Loss: 0.9196, Val Loss: 0.8794\n",
      "Learning Rate: 0.001, Epoch [4/5], Train Loss: 0.8389, Val Loss: 0.8245\n",
      "Learning Rate: 0.001, Epoch [5/5], Train Loss: 0.7779, Val Loss: 0.7558\n",
      "Learning Rate: 0.001, Accuracy: 0.7436\n",
      "Learning Rate: 0.001, Precision: 0.7553072625698324\n",
      "Learning Rate: 0.001, Recall: 0.9795810828612831\n",
      "Learning Rate: 0.001, F1_Score: 0.8529479238357421\n"
     ]
    },
    {
     "data": {
      "image/png": "[encoded data removed]",
      "text/plain": [
       "<Figure size 432x288 with 1 Axes>"
      ]
     },
     "metadata": {
      "needs_background": "light"
     },
     "output_type": "display_data"
    },
    {
     "name": "stdout",
     "output_type": "stream",
     "text": [
      "Learning Rate: 1e-09, Epoch [1/5], Train Loss: 2.3018, Val Loss: 2.3010\n",
      "Learning Rate: 1e-09, Epoch [2/5], Train Loss: 2.3019, Val Loss: 2.3007\n",
      "Learning Rate: 1e-09, Epoch [3/5], Train Loss: 2.3015, Val Loss: 2.3006\n",
      "Learning Rate: 1e-09, Epoch [4/5], Train Loss: 2.3013, Val Loss: 2.3005\n",
      "Learning Rate: 1e-09, Epoch [5/5], Train Loss: 2.3012, Val Loss: 2.3003\n",
      "Learning Rate: 1e-09, Accuracy: 0.1011\n",
      "Learning Rate: 1e-09, Precision: 0.11174975129877307\n",
      "Learning Rate: 1e-09, Recall: 0.5147657841140529\n",
      "Learning Rate: 1e-09, F1_Score: 0.1836345472709109\n"
     ]
    },
    {
     "data": {
      "image/png": "[encoded data removed]",
      "text/plain": [
       "<Figure size 432x288 with 1 Axes>"
      ]
     },
     "metadata": {
      "needs_background": "light"
     },
     "output_type": "display_data"
    },
    {
     "name": "stdout",
     "output_type": "stream",
     "text": [
      "Learning Rate: 1, Epoch [1/5], Train Loss: 3527350.4013, Val Loss: 59.9913\n",
      "Learning Rate: 1, Epoch [2/5], Train Loss: 39.0519, Val Loss: 67.3632\n",
      "Learning Rate: 1, Epoch [3/5], Train Loss: 6.1921, Val Loss: 325.8216\n",
      "Learning Rate: 1, Epoch [4/5], Train Loss: 7.4821, Val Loss: 52.7974\n",
      "Learning Rate: 1, Epoch [5/5], Train Loss: 2.3638, Val Loss: 39.4546\n",
      "Learning Rate: 1, Accuracy: 0.1\n",
      "Learning Rate: 1, Precision: 0.1111111111111111\n",
      "Learning Rate: 1, Recall: 0.5\n",
      "Learning Rate: 1, F1_Score: 0.1818181818181818\n"
     ]
    },
    {
     "data": {
      "image/png": "[encoded data removed]",
      "text/plain": [
       "<Figure size 432x288 with 1 Axes>"
      ]
     },
     "metadata": {
      "needs_background": "light"
     },
     "output_type": "display_data"
    }
   ],
   "source": [
    "num_epochs = 5\n",
    "losses = []\n",
    "for lr in learning_rate:\n",
    "    model = VGG16_Shallow().to(device)\n",
    "    \n",
    "    criterion = nn.CrossEntropyLoss()\n",
    "    optimizer = optim.Adam(model.parameters(), lr=lr)\n",
    "    \n",
    "    train_losses = []\n",
    "    val_losses = []\n",
    "    \n",
    "    for epoch in range(num_epochs):\n",
    "        # Training\n",
    "        model.train()\n",
    "        train_loss = 0.0\n",
    "\n",
    "        for images, labels in train_loader:\n",
    "            images = images.to(device)\n",
    "            labels = labels.to(device)\n",
    "\n",
    "            optimizer.zero_grad()\n",
    "\n",
    "            outputs = model(images)\n",
    "            loss = criterion(outputs, labels)\n",
    "            loss.backward()\n",
    "            optimizer.step()\n",
    "\n",
    "            train_loss += loss.item() * images.size(0)\n",
    "\n",
    "        train_loss = train_loss / len(train_loader.dataset)\n",
    "        train_losses.append(train_loss)\n",
    "        \n",
    "        model.eval()\n",
    "        val_loss = 0.0\n",
    "        with torch.no_grad():\n",
    "            for images, labels in val_loader:\n",
    "                images = images.to(device)\n",
    "                labels = labels.to(device)\n",
    "                outputs = model(images)\n",
    "                loss = criterion(outputs, labels)\n",
    "                val_loss += loss.item() * images.size(0)\n",
    "        \n",
    "        val_loss /= len(val_loader.dataset)\n",
    "        val_losses.append(val_loss)\n",
    "\n",
    "        print(f'Learning Rate: {lr}, Epoch [{epoch+1}/{num_epochs}], Train Loss: {train_loss:.4f}, Val Loss: {val_loss:.4f}')\n",
    "\n",
    "    model.eval()\n",
    "    with torch.no_grad():\n",
    "        total_correct = 0\n",
    "        total_samples = 0\n",
    "        true_positives = 0\n",
    "        false_negatives = 0\n",
    "        false_positives = 0\n",
    "\n",
    "        for images, labels in test_loader:\n",
    "            images = images.to(device)\n",
    "            labels = labels.to(device)\n",
    "            batch_size = images.size(0)\n",
    "            outputs = model(images)\n",
    "            _, predicted = torch.max(outputs.data, 1)\n",
    "            total_correct += (predicted == labels).sum().item()\n",
    "            total_samples += labels.size(0)\n",
    "\n",
    "            for i in range(labels.size(0)):\n",
    "                if predicted[i] == labels[i]:\n",
    "                    true_positives += 1\n",
    "                else:\n",
    "                    if labels[i] == 1:\n",
    "                        false_negatives += 1\n",
    "                    else:\n",
    "                        false_positives += 1\n",
    "            accuracy = total_correct / total_samples\n",
    "            precision = true_positives / (true_positives + false_positives)\n",
    "            recall = true_positives / (true_positives + false_negatives)\n",
    "            f1_score = 2 * (precision * recall) / (precision + recall)\n",
    "        \n",
    "        print(f'Learning Rate: {lr}, Accuracy: {accuracy}')\n",
    "        print(f'Learning Rate: {lr}, Precision: {precision}')\n",
    "        print(f'Learning Rate: {lr}, Recall: {recall}')\n",
    "        print(f'Learning Rate: {lr}, F1_Score: {f1_score}')\n",
    "        \n",
    "        plt.plot(range(1, num_epochs+1), train_losses, label='Train Loss')\n",
    "        plt.plot(range(1, num_epochs+1), val_losses, label='Val Loss')\n",
    "        plt.xlabel('Epoch')\n",
    "        plt.ylabel('Loss')\n",
    "        plt.legend()\n",
    "        plt.show()"
   ]
  },
  {
   "cell_type": "markdown",
   "id": "f74e5e57",
   "metadata": {},
   "source": [
    "Câu 4\n",
    "Tại sao khi build model, càng những layer phía sau, width và height giảm nhưng depth lại tăng\n"
   ]
  },
  {
   "cell_type": "markdown",
   "id": "b86a92dd",
   "metadata": {},
   "source": [
    "Performing max pooling will reduce the feature map size according to the specified ratio."
   ]
  },
  {
   "cell_type": "markdown",
   "id": "d1df6676",
   "metadata": {},
   "source": [
    "In a convolutional neural network (CNN), depth refers to the number of layers in the network. Each layer in a CNN is designed to extract features from the input image, and deeper networks have more layers to extract more complex features. The deeper the network, the more abstraction it can perform, allowing it to learn more high-level features from the input image. This can lead to better performance on image recognition tasks, because the network is able to learn more about the image and make more accurate predictions. Additionally, deeper networks can also be more robust to noise and variations in the input image."
   ]
  },
  {
   "cell_type": "markdown",
   "id": "d7614199",
   "metadata": {},
   "source": [
    "In convolutional network, we have kernel or filters at each conv layers. These kernel has size and it is usually 3x3 or 5x5. This filter operate on the input data, and give activation accordingly. The values to the filter (the weights) are learned to activate on certain feature in the input data.\n",
    "\n",
    "Suppose we are using kernel of 3x3 on every conv layer in a network. Now on the first conv layer the receptive field will be 3x3=9. This mean the filters on this layer will be able to learn feature of size within 9 pixels square. On the second conv layer, the receptive field will be 3x3 but each point is based on the 3x3 of the first layer. So the total receptive field will be (3x3)x9=81 pixels. Similarly at the third layer, the receptive field will be larger than the second one. Each filter learnt its feature template based on the receptive field. Bigger the receptive field, more bigger and complex feature it will gonna learn.\n",
    "\n",
    "The idea is that as we go down from one layer to another layer, our receptive field will gonna increase and the filters at that layer will going to learn bigger and more complex features.\n",
    "\n",
    "Hence a deeper convolutional network will allow learning of more complex and bigger features as compare to the shorter networks."
   ]
  },
  {
   "cell_type": "markdown",
   "id": "ac8614b4",
   "metadata": {},
   "source": [
    "Câu 5 (Optional)\n",
    "\n",
    "1 bài viết hay bao gồm tool sử dụng để vísualize CNN model\n"
   ]
  },
  {
   "cell_type": "markdown",
   "id": "ae827147",
   "metadata": {},
   "source": [
    "https://github.com/ashishpatel26/Tools-to-Design-or-Visualize-Architecture-of-Neural-Network"
   ]
  },
  {
   "cell_type": "markdown",
   "id": "6e7e7775",
   "metadata": {},
   "source": [
    "https://poloclub.github.io/cnn-explainer/"
   ]
  },
  {
   "cell_type": "code",
   "execution_count": null,
   "id": "e6c13acb",
   "metadata": {},
   "outputs": [],
   "source": []
  }
 ],
 "metadata": {
  "kernelspec": {
   "display_name": "Python 3",
   "language": "python",
   "name": "python3"
  },
  "language_info": {
   "codemirror_mode": {
    "name": "ipython",
    "version": 3
   },
   "file_extension": ".py",
   "mimetype": "text/x-python",
   "name": "python",
   "nbconvert_exporter": "python",
   "pygments_lexer": "ipython3",
   "version": "3.8.8"
  }
 },
 "nbformat": 4,
 "nbformat_minor": 5
}
