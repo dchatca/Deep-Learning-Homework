{
 "cells": [
  {
   "cell_type": "markdown",
   "id": "99fd4c13",
   "metadata": {},
   "source": [
    "# Nguyễn Ngọc Đạt 11200745  DSEB62\n"
   ]
  },
  {
   "cell_type": "markdown",
   "id": "1cef9576",
   "metadata": {},
   "source": [
    "## Bài 1: Cho bài toán XOR\n",
    "- Implement thuật toán neural network để giải bài toán dùng Pytorch\n"
   ]
  },
  {
   "cell_type": "code",
   "execution_count": 94,
   "id": "30575621",
   "metadata": {},
   "outputs": [],
   "source": [
    "import pandas as pd\n",
    "import numpy as np\n",
    "import matplotlib.pyplot as plt\n",
    "from torchvision import datasets, transforms\n",
    "import torch\n",
    "import torch.nn as nn\n",
    "import torch.optim as optim"
   ]
  },
  {
   "cell_type": "code",
   "execution_count": 95,
   "id": "0ff33318",
   "metadata": {},
   "outputs": [
    {
     "data": {
      "image/png": "[encoded data removed]",
      "text/plain": [
       "<Figure size 432x288 with 1 Axes>"
      ]
     },
     "metadata": {
      "needs_background": "light"
     },
     "output_type": "display_data"
    }
   ],
   "source": [
    "X = np.array([[0, 0], [0, 1], [1, 0], [1, 1]])\n",
    "y = np.array([0, 1, 1, 0])\n",
    "\n",
    "X_0 = X[y == 0]\n",
    "X_1 = X[y == 1]\n",
    "\n",
    "\n",
    "plt.scatter(X_0[:, 0], X_0[:, 1], c='blue', label='Class 0')\n",
    "plt.scatter(X_1[:, 0], X_1[:, 1], c='red', label='Class 1')\n",
    "\n",
    "plt.xlabel('Feature 1')\n",
    "plt.ylabel('Feature 2')\n",
    "plt.title('XOR Dataset')\n",
    "plt.legend()\n",
    "plt.show()"
   ]
  },
  {
   "cell_type": "code",
   "execution_count": 96,
   "id": "d3cc2f13",
   "metadata": {},
   "outputs": [],
   "source": [
    "class NeuralNetwork(nn.Module):\n",
    "    def __init__(self, input_size, hidden_size, output_size):\n",
    "        super(NeuralNetwork, self).__init__() \n",
    "        self.hidden = nn.Linear(input_size, hidden_size)\n",
    "        self.relu = nn.ReLU() \n",
    "        self.output = nn.Linear(hidden_size,output_size)\n",
    "    \n",
    "    def forward(self, x):\n",
    "        hidden = self.hidden(x)\n",
    "        activated = self.relu(hidden)\n",
    "        output = self.output(activated)\n",
    "        return output "
   ]
  },
  {
   "cell_type": "code",
   "execution_count": 97,
   "id": "c7403ffb",
   "metadata": {},
   "outputs": [],
   "source": [
    "X = torch.tensor([[0, 0], [0, 1], [1, 0], [1, 1]], dtype=torch.float32)\n",
    "y = torch.tensor([[0], [1], [1], [0]], dtype=torch.float32)"
   ]
  },
  {
   "cell_type": "code",
   "execution_count": 98,
   "id": "feb6ffa7",
   "metadata": {},
   "outputs": [],
   "source": [
    "input_size = 2\n",
    "hidden_size = 16\n",
    "output_size = 1\n",
    "\n",
    "learning_rate = 0.001\n",
    "epochs = 1000\n",
    "\n",
    "network = NeuralNetwork(input_size, hidden_size, output_size)"
   ]
  },
  {
   "cell_type": "code",
   "execution_count": 99,
   "id": "3867544d",
   "metadata": {},
   "outputs": [
    {
     "data": {
      "text/plain": [
       "NeuralNetwork(\n",
       "  (hidden): Linear(in_features=2, out_features=16, bias=True)\n",
       "  (relu): ReLU()\n",
       "  (output): Linear(in_features=16, out_features=1, bias=True)\n",
       ")"
      ]
     },
     "execution_count": 99,
     "metadata": {},
     "output_type": "execute_result"
    }
   ],
   "source": [
    "network"
   ]
  },
  {
   "cell_type": "code",
   "execution_count": 100,
   "id": "0426fa50",
   "metadata": {},
   "outputs": [],
   "source": [
    "loss_fn = nn.MSELoss()\n",
    "optimizer = optim.Adam(network.parameters(), lr=learning_rate)"
   ]
  },
  {
   "cell_type": "code",
   "execution_count": 101,
   "id": "d78520e2",
   "metadata": {},
   "outputs": [],
   "source": [
    "def train_neural_network(network, optimizer, loss_fn, X, y, epochs):\n",
    "    for epoch in range(epochs):\n",
    "        optimizer.zero_grad() # Đặt gradient về 0\n",
    "\n",
    "        # Feedforward\n",
    "        outputs = network(X)\n",
    "\n",
    "        loss = loss_fn(outputs, y)\n",
    "\n",
    "        # Backpropagation \n",
    "        loss.backward()\n",
    "\n",
    "        # Cập nhật các tham số của mạng\n",
    "        optimizer.step()\n",
    "\n",
    "        if epoch % 100 == 0:\n",
    "            print(f\"Epoch {epoch+1}/{epochs}, Loss: {loss.item():.4f}\")"
   ]
  },
  {
   "cell_type": "code",
   "execution_count": 102,
   "id": "611d9fd1",
   "metadata": {},
   "outputs": [
    {
     "name": "stdout",
     "output_type": "stream",
     "text": [
      "Epoch 1/1000, Loss: 0.5420\n",
      "Epoch 101/1000, Loss: 0.2677\n",
      "Epoch 201/1000, Loss: 0.1526\n",
      "Epoch 301/1000, Loss: 0.0872\n",
      "Epoch 401/1000, Loss: 0.0509\n",
      "Epoch 501/1000, Loss: 0.0295\n",
      "Epoch 601/1000, Loss: 0.0159\n",
      "Epoch 701/1000, Loss: 0.0075\n",
      "Epoch 801/1000, Loss: 0.0029\n",
      "Epoch 901/1000, Loss: 0.0010\n"
     ]
    }
   ],
   "source": [
    "train_neural_network(network, optimizer, loss_fn, X, y, epochs)"
   ]
  },
  {
   "cell_type": "code",
   "execution_count": 103,
   "id": "90aedb35",
   "metadata": {},
   "outputs": [
    {
     "name": "stdout",
     "output_type": "stream",
     "text": [
      "Accuracy on test data: 1.00\n"
     ]
    }
   ],
   "source": [
    "X_test = torch.tensor([[0, 0], [0, 1], [1, 0], [1, 1]], dtype=torch.float32)\n",
    "y_test = torch.tensor([[0], [1], [1], [0]], dtype=torch.float32)\n",
    "\n",
    "with torch.no_grad():\n",
    "    outputs = network(X_test)\n",
    "    predicted_labels = (outputs > 0.5).float()\n",
    "    accuracy = (predicted_labels == y_test).float().mean()\n",
    "\n",
    "print(f\"Accuracy on test data: {accuracy.item():.2f}\")"
   ]
  },
  {
   "cell_type": "markdown",
   "id": "a8d34c92",
   "metadata": {},
   "source": [
    "## Bài 2: Cho dataset MNIST\n",
    "- Implement thuật toán neural network với dữ liệu trên sử dụng Pytorch\n",
    "- Chỉnh learning rate, vẽ đồ thị loss tương ứng.\n",
    "- Chia tập train/test tỉ lệ 80/20, tính các chỉ số MSE, RSME, MAE, MAPE trên tập test.\n"
   ]
  },
  {
   "cell_type": "code",
   "execution_count": 104,
   "id": "559a4cf6",
   "metadata": {},
   "outputs": [],
   "source": [
    "class NN(nn.Module):\n",
    "    def __init__(self):\n",
    "        super(NN, self).__init__()\n",
    "        self.fc1 = nn.Linear(784, 512)\n",
    "        self.fc2 = nn.Linear(512, 256)\n",
    "        self.fc3 = nn.Linear(256, 10)\n",
    "        self.relu = nn.ReLU()\n",
    "\n",
    "    def forward(self, x):\n",
    "        x = x.view(-1, 784) #reshape the input to (-1, 784) cause we don't know the dim of input \n",
    "        # -1 size of the first dimension will be inferred from the other dimensions. \n",
    "        #In this case, the first dimension will be set to the number of elements in the tensor x\n",
    "        x = self.relu(self.fc1(x))\n",
    "        x = self.relu(self.fc2(x))\n",
    "        x = self.fc3(x)\n",
    "        return x"
   ]
  },
  {
   "cell_type": "code",
   "execution_count": 105,
   "id": "dd14e364",
   "metadata": {},
   "outputs": [],
   "source": [
    "# gpu available ?\n",
    "device = torch.device(\"cuda\" if torch.cuda.is_available() else \"cpu\")"
   ]
  },
  {
   "cell_type": "code",
   "execution_count": 106,
   "id": "22ca6398",
   "metadata": {},
   "outputs": [],
   "source": [
    "batch_size = 64 #train on batches of 64 examples at a time.\n",
    "learning_rate = [0.001, 0.000000001, 1]\n",
    "num_epochs = 10"
   ]
  },
  {
   "cell_type": "code",
   "execution_count": 107,
   "id": "b9e2df7f",
   "metadata": {},
   "outputs": [],
   "source": [
    "transform = transforms.Compose([\n",
    "    transforms.ToTensor()\n",
    "])"
   ]
  },
  {
   "cell_type": "code",
   "execution_count": 108,
   "id": "0c50b023",
   "metadata": {},
   "outputs": [],
   "source": [
    "train_dataset = datasets.MNIST(root='./data', train=True, transform=transform, download=True)\n",
    "val_dataset = datasets.MNIST(root='./data', train=False, transform=transform)"
   ]
  },
  {
   "cell_type": "code",
   "execution_count": 109,
   "id": "443a389a",
   "metadata": {},
   "outputs": [],
   "source": [
    "num_train_samples = int(len(train_dataset) * 0.8)\n",
    "num_val_samples = len(train_dataset) - num_train_samples"
   ]
  },
  {
   "cell_type": "code",
   "execution_count": 110,
   "id": "15fc762f",
   "metadata": {},
   "outputs": [],
   "source": [
    "train_loader = torch.utils.data.DataLoader(dataset=train_dataset, batch_size=batch_size, shuffle=True)\n",
    "val_loader = torch.utils.data.DataLoader(dataset=val_dataset, batch_size=batch_size, shuffle=False)\n",
    "test_loader = torch.utils.data.DataLoader(dataset=test_dataset, batch_size=batch_size, shuffle=False)"
   ]
  },
  {
   "cell_type": "code",
   "execution_count": 111,
   "id": "cb2e43f2",
   "metadata": {},
   "outputs": [
    {
     "name": "stdout",
     "output_type": "stream",
     "text": [
      "[tensor([[[[0., 0., 0.,  ..., 0., 0., 0.],\n",
      "          [0., 0., 0.,  ..., 0., 0., 0.],\n",
      "          [0., 0., 0.,  ..., 0., 0., 0.],\n",
      "          ...,\n",
      "          [0., 0., 0.,  ..., 0., 0., 0.],\n",
      "          [0., 0., 0.,  ..., 0., 0., 0.],\n",
      "          [0., 0., 0.,  ..., 0., 0., 0.]]],\n",
      "\n",
      "\n",
      "        [[[0., 0., 0.,  ..., 0., 0., 0.],\n",
      "          [0., 0., 0.,  ..., 0., 0., 0.],\n",
      "          [0., 0., 0.,  ..., 0., 0., 0.],\n",
      "          ...,\n",
      "          [0., 0., 0.,  ..., 0., 0., 0.],\n",
      "          [0., 0., 0.,  ..., 0., 0., 0.],\n",
      "          [0., 0., 0.,  ..., 0., 0., 0.]]],\n",
      "\n",
      "\n",
      "        [[[0., 0., 0.,  ..., 0., 0., 0.],\n",
      "          [0., 0., 0.,  ..., 0., 0., 0.],\n",
      "          [0., 0., 0.,  ..., 0., 0., 0.],\n",
      "          ...,\n",
      "          [0., 0., 0.,  ..., 0., 0., 0.],\n",
      "          [0., 0., 0.,  ..., 0., 0., 0.],\n",
      "          [0., 0., 0.,  ..., 0., 0., 0.]]],\n",
      "\n",
      "\n",
      "        ...,\n",
      "\n",
      "\n",
      "        [[[0., 0., 0.,  ..., 0., 0., 0.],\n",
      "          [0., 0., 0.,  ..., 0., 0., 0.],\n",
      "          [0., 0., 0.,  ..., 0., 0., 0.],\n",
      "          ...,\n",
      "          [0., 0., 0.,  ..., 0., 0., 0.],\n",
      "          [0., 0., 0.,  ..., 0., 0., 0.],\n",
      "          [0., 0., 0.,  ..., 0., 0., 0.]]],\n",
      "\n",
      "\n",
      "        [[[0., 0., 0.,  ..., 0., 0., 0.],\n",
      "          [0., 0., 0.,  ..., 0., 0., 0.],\n",
      "          [0., 0., 0.,  ..., 0., 0., 0.],\n",
      "          ...,\n",
      "          [0., 0., 0.,  ..., 0., 0., 0.],\n",
      "          [0., 0., 0.,  ..., 0., 0., 0.],\n",
      "          [0., 0., 0.,  ..., 0., 0., 0.]]],\n",
      "\n",
      "\n",
      "        [[[0., 0., 0.,  ..., 0., 0., 0.],\n",
      "          [0., 0., 0.,  ..., 0., 0., 0.],\n",
      "          [0., 0., 0.,  ..., 0., 0., 0.],\n",
      "          ...,\n",
      "          [0., 0., 0.,  ..., 0., 0., 0.],\n",
      "          [0., 0., 0.,  ..., 0., 0., 0.],\n",
      "          [0., 0., 0.,  ..., 0., 0., 0.]]]]), tensor([0, 6, 5, 6, 1, 8, 1, 4, 4, 8, 4, 9, 1, 9, 2, 8, 7, 2, 1, 0, 4, 0, 2, 6,\n",
      "        0, 7, 1, 7, 7, 7, 3, 6, 2, 9, 0, 3, 9, 2, 1, 3, 8, 9, 2, 5, 8, 5, 2, 3,\n",
      "        9, 9, 0, 8, 7, 6, 3, 2, 6, 6, 4, 2, 6, 9, 7, 2])]\n"
     ]
    }
   ],
   "source": [
    "for data in train_loader:\n",
    "    print(data)\n",
    "    break"
   ]
  },
  {
   "cell_type": "code",
   "execution_count": 112,
   "id": "62787d2f",
   "metadata": {},
   "outputs": [
    {
     "name": "stdout",
     "output_type": "stream",
     "text": [
      "tensor(0)\n"
     ]
    }
   ],
   "source": [
    "x, y = data[0][0], data[1][0]\n",
    "\n",
    "print(y)\n",
    "#print(x)"
   ]
  },
  {
   "cell_type": "code",
   "execution_count": 113,
   "id": "dae461c4",
   "metadata": {},
   "outputs": [
    {
     "data": {
      "image/png": "[encoded data removed]",
      "text/plain": [
       "<Figure size 432x288 with 1 Axes>"
      ]
     },
     "metadata": {
      "needs_background": "light"
     },
     "output_type": "display_data"
    }
   ],
   "source": [
    "plt.imshow(data[0][2].view(28,28))\n",
    "plt.show()"
   ]
  },
  {
   "cell_type": "code",
   "execution_count": 114,
   "id": "cc4b014f",
   "metadata": {},
   "outputs": [
    {
     "name": "stdout",
     "output_type": "stream",
     "text": [
      "{0: 5923, 1: 6742, 2: 5958, 3: 6131, 4: 5842, 5: 5421, 6: 5918, 7: 6265, 8: 5851, 9: 5949}\n"
     ]
    }
   ],
   "source": [
    "total = 0 \n",
    "counter_dict = {0:0, 1:0, 2:0, 3:0, 4:0, 5:0, 6:0, 7:0, 8:0, 9:0}\n",
    "\n",
    "for data in train_loader:\n",
    "    Xs, ys = data\n",
    "    for y in ys:\n",
    "        counter_dict[int(y)] += 1\n",
    "        total +=1 \n",
    "\n",
    "print(counter_dict)"
   ]
  },
  {
   "cell_type": "code",
   "execution_count": 115,
   "id": "b3f22eef",
   "metadata": {},
   "outputs": [
    {
     "name": "stdout",
     "output_type": "stream",
     "text": [
      "0: 9.871666666666666\n",
      "1: 11.236666666666666\n",
      "2: 9.93\n",
      "3: 10.218333333333334\n",
      "4: 9.736666666666666\n",
      "5: 9.035\n",
      "6: 9.863333333333333\n",
      "7: 10.441666666666666\n",
      "8: 9.751666666666667\n",
      "9: 9.915000000000001\n"
     ]
    }
   ],
   "source": [
    "for i in counter_dict:\n",
    "    print(f\"{i}: {counter_dict[i]/total*100}\")"
   ]
  },
  {
   "cell_type": "code",
   "execution_count": 116,
   "id": "87e3a4db",
   "metadata": {},
   "outputs": [],
   "source": [
    "model = NN()\n",
    "\n",
    "# Define the loss function and optimizer\n",
    "#criterion = nn.CrossEntropyLoss()\n",
    "#optimizer = optim.Adam(model.parameters(), lr=learning_rate)"
   ]
  },
  {
   "cell_type": "code",
   "execution_count": 117,
   "id": "5ddc866c",
   "metadata": {},
   "outputs": [
    {
     "name": "stdout",
     "output_type": "stream",
     "text": [
      "Learning Rate: 0.001, Epoch [1/10], Train Loss: 0.2328, Val Loss: 0.1102\n",
      "Learning Rate: 0.001, Epoch [2/10], Train Loss: 0.0877, Val Loss: 0.0812\n",
      "Learning Rate: 0.001, Epoch [3/10], Train Loss: 0.0584, Val Loss: 0.0703\n",
      "Learning Rate: 0.001, Epoch [4/10], Train Loss: 0.0408, Val Loss: 0.0896\n",
      "Learning Rate: 0.001, Epoch [5/10], Train Loss: 0.0336, Val Loss: 0.0646\n",
      "Learning Rate: 0.001, Epoch [6/10], Train Loss: 0.0240, Val Loss: 0.0780\n",
      "Learning Rate: 0.001, Epoch [7/10], Train Loss: 0.0210, Val Loss: 0.0850\n",
      "Learning Rate: 0.001, Epoch [8/10], Train Loss: 0.0200, Val Loss: 0.0922\n",
      "Learning Rate: 0.001, Epoch [9/10], Train Loss: 0.0147, Val Loss: 0.1001\n",
      "Learning Rate: 0.001, Epoch [10/10], Train Loss: 0.0159, Val Loss: 0.0908\n",
      "Learning Rate: 0.001, Test MSE: 0.4623\n",
      "Learning Rate: 0.001, Test RMSE: 0.6799\n",
      "Learning Rate: 0.001, Test MAE: 0.0871\n",
      "Learning Rate: 0.001, Test MAPE: 8.71%\n",
      "\n"
     ]
    },
    {
     "data": {
      "image/png": "[encoded data removed]",
      "text/plain": [
       "<Figure size 432x288 with 1 Axes>"
      ]
     },
     "metadata": {
      "needs_background": "light"
     },
     "output_type": "display_data"
    },
    {
     "name": "stdout",
     "output_type": "stream",
     "text": [
      "Learning Rate: 1e-09, Epoch [1/10], Train Loss: 2.3030, Val Loss: 2.3025\n",
      "Learning Rate: 1e-09, Epoch [2/10], Train Loss: 2.3030, Val Loss: 2.3024\n",
      "Learning Rate: 1e-09, Epoch [3/10], Train Loss: 2.3030, Val Loss: 2.3024\n",
      "Learning Rate: 1e-09, Epoch [4/10], Train Loss: 2.3030, Val Loss: 2.3024\n",
      "Learning Rate: 1e-09, Epoch [5/10], Train Loss: 2.3030, Val Loss: 2.3024\n",
      "Learning Rate: 1e-09, Epoch [6/10], Train Loss: 2.3029, Val Loss: 2.3023\n",
      "Learning Rate: 1e-09, Epoch [7/10], Train Loss: 2.3029, Val Loss: 2.3023\n",
      "Learning Rate: 1e-09, Epoch [8/10], Train Loss: 2.3029, Val Loss: 2.3023\n",
      "Learning Rate: 1e-09, Epoch [9/10], Train Loss: 2.3029, Val Loss: 2.3023\n",
      "Learning Rate: 1e-09, Epoch [10/10], Train Loss: 2.3028, Val Loss: 2.3023\n",
      "Learning Rate: 1e-09, Test MSE: 17.5167\n",
      "Learning Rate: 1e-09, Test RMSE: 4.1853\n",
      "Learning Rate: 1e-09, Test MAE: 3.3893\n",
      "Learning Rate: 1e-09, Test MAPE: 338.93%\n",
      "\n"
     ]
    },
    {
     "data": {
      "image/png": "[encoded data removed]",
      "text/plain": [
       "<Figure size 432x288 with 1 Axes>"
      ]
     },
     "metadata": {
      "needs_background": "light"
     },
     "output_type": "display_data"
    },
    {
     "name": "stdout",
     "output_type": "stream",
     "text": [
      "Learning Rate: 1, Epoch [1/10], Train Loss: 804.4117, Val Loss: 2.3454\n",
      "Learning Rate: 1, Epoch [2/10], Train Loss: 8.2578, Val Loss: 2.4833\n",
      "Learning Rate: 1, Epoch [3/10], Train Loss: 2.7845, Val Loss: 2.3875\n",
      "Learning Rate: 1, Epoch [4/10], Train Loss: 2.3615, Val Loss: 2.3573\n",
      "Learning Rate: 1, Epoch [5/10], Train Loss: 2.3744, Val Loss: 2.3606\n",
      "Learning Rate: 1, Epoch [6/10], Train Loss: 2.3775, Val Loss: 2.4412\n",
      "Learning Rate: 1, Epoch [7/10], Train Loss: 2.3746, Val Loss: 2.4022\n",
      "Learning Rate: 1, Epoch [8/10], Train Loss: 2.3693, Val Loss: 2.3824\n",
      "Learning Rate: 1, Epoch [9/10], Train Loss: 2.3681, Val Loss: 2.3566\n",
      "Learning Rate: 1, Epoch [10/10], Train Loss: 2.3759, Val Loss: 2.4004\n",
      "Learning Rate: 1, Test MSE: 8.5818\n",
      "Learning Rate: 1, Test RMSE: 2.9295\n",
      "Learning Rate: 1, Test MAE: 2.5232\n",
      "Learning Rate: 1, Test MAPE: 252.32%\n",
      "\n"
     ]
    },
    {
     "data": {
      "image/png": "[encoded data removed]",
      "text/plain": [
       "<Figure size 432x288 with 1 Axes>"
      ]
     },
     "metadata": {
      "needs_background": "light"
     },
     "output_type": "display_data"
    }
   ],
   "source": [
    "results = []\n",
    "for lr in learning_rate:\n",
    "    # Create an instance of the neural network\n",
    "    model = NN().to(device) #Move tensor to GPU\n",
    "\n",
    "    # Define the loss function and optimizer\n",
    "    criterion = nn.CrossEntropyLoss()\n",
    "    optimizer = optim.Adam(model.parameters(), lr=lr)\n",
    "\n",
    "    # Training loop\n",
    "    train_losses = []\n",
    "    val_losses = []\n",
    "\n",
    "    for epoch in range(num_epochs):\n",
    "        model.train()\n",
    "        train_loss = 0.0\n",
    "        for images, labels in train_loader:\n",
    "            images = images.to(device) #Move tensor to GPU\n",
    "            labels = labels.to(device)\n",
    "            optimizer.zero_grad()\n",
    "            outputs = model(images)\n",
    "            loss = criterion(outputs, labels)\n",
    "            loss.backward()\n",
    "            optimizer.step()\n",
    "            train_loss += loss.item() * images.size(0) #tensor to python float * number of image in batch\n",
    "        \n",
    "        train_loss /= len(train_loader.dataset)\n",
    "        train_losses.append(train_loss)\n",
    "\n",
    "        model.eval()\n",
    "        val_loss = 0.0\n",
    "        with torch.no_grad():\n",
    "            for images, labels in val_loader:\n",
    "                images = images.to(device)\n",
    "                labels = labels.to(device)\n",
    "                outputs = model(images)\n",
    "                loss = criterion(outputs, labels)\n",
    "                val_loss += loss.item() * images.size(0)\n",
    "        \n",
    "        val_loss /= len(val_loader.dataset)\n",
    "        val_losses.append(val_loss)\n",
    "\n",
    "        print(f'Learning Rate: {lr}, Epoch [{epoch+1}/{num_epochs}], Train Loss: {train_loss:.4f}, Val Loss: {val_loss:.4f}')\n",
    "\n",
    "    # Evaluate on the test set\n",
    "    model.eval()\n",
    "    mse = nn.MSELoss()\n",
    "    mae = nn.L1Loss()\n",
    "    mape = nn.L1Loss()\n",
    "    total_samples = 0\n",
    "    with torch.no_grad():\n",
    "        total_loss = 0.0\n",
    "        mse_loss = 0.0\n",
    "        mae_loss = 0.0\n",
    "        mape_loss = 0.0\n",
    "        for images, labels in test_loader:\n",
    "            images = images.to(device)\n",
    "            labels = labels.to(device)\n",
    "            batch_size = images.size(0)\n",
    "            outputs = model(images)\n",
    "            loss = criterion(outputs, labels)\n",
    "            total_loss += loss.item() * batch_size\n",
    "            mse_loss += mse(outputs.argmax(dim=1).float(), labels.float()) * batch_size\n",
    "            mae_loss += mae(outputs.argmax(dim=1).float(), labels.float()) * batch_size\n",
    "            mape_loss += mape(outputs.argmax(dim=1).float(), labels.float()) * batch_size\n",
    "            total_samples += batch_size\n",
    "\n",
    "        total_loss /= total_samples\n",
    "        mse_loss /= total_samples\n",
    "        rmse_loss = torch.sqrt(mse_loss)\n",
    "        mae_loss /= total_samples\n",
    "        mape_loss /= total_samples\n",
    "\n",
    "        result = {\n",
    "            'learning_rate': lr,\n",
    "            'test_mse': mse_loss.item(),\n",
    "            'test_rmse': rmse_loss.item(),\n",
    "            'test_mae': mae_loss.item(),\n",
    "            'test_mape': mape_loss.item() * 100\n",
    "        }\n",
    "        results.append(result)\n",
    "\n",
    "        print(f\"Learning Rate: {lr}, Test MSE: {mse_loss:.4f}\")\n",
    "        print(f\"Learning Rate: {lr}, Test RMSE: {rmse_loss:.4f}\")\n",
    "        print(f\"Learning Rate: {lr}, Test MAE: {mae_loss:.4f}\")\n",
    "        print(f\"Learning Rate: {lr}, Test MAPE: {mape_loss*100:.2f}%\")\n",
    "        print()\n",
    "        \n",
    "        plt.plot(range(1, num_epochs+1), train_losses, label='Train Loss')\n",
    "        plt.plot(range(1, num_epochs+1), val_losses, label='Val Loss')\n",
    "        plt.xlabel('Epoch')\n",
    "        plt.ylabel('Loss')\n",
    "        plt.legend()\n",
    "        plt.show()\n"
   ]
  },
  {
   "cell_type": "markdown",
   "id": "6fc3bdc6",
   "metadata": {},
   "source": [
    "## Bài 3:\n",
    " - Tại sao hàm softmax lại dùng exponential function (e) mà không phải số khác như 2, 3 hoặc 4\n"
   ]
  },
  {
   "cell_type": "markdown",
   "id": "f1fa95a4",
   "metadata": {},
   "source": [
    "\n",
    "The softmax function uses the exponential function because it has several desirable properties:\n",
    "\n",
    "- It ensures that the outputs of the function are positive. This is important because probabilities must be positive.\n",
    "- It ensures that the outputs of the function sum to one. This is important because probabilities must sum to one to represent a valid distribution.\n",
    "- It is differentiable. This is important because it allows the softmax function to be used in gradient descent to train neural networks.\n",
    "- The exponential function combined with the normalization in the softmax is that high scores in 𝑥 become much more probable than low scores."
   ]
  },
  {
   "cell_type": "code",
   "execution_count": null,
   "id": "edcac6f6",
   "metadata": {},
   "outputs": [],
   "source": []
  }
 ],
 "metadata": {
  "kernelspec": {
   "display_name": "Python 3",
   "language": "python",
   "name": "python3"
  },
  "language_info": {
   "codemirror_mode": {
    "name": "ipython",
    "version": 3
   },
   "file_extension": ".py",
   "mimetype": "text/x-python",
   "name": "python",
   "nbconvert_exporter": "python",
   "pygments_lexer": "ipython3",
   "version": "3.8.8"
  }
 },
 "nbformat": 4,
 "nbformat_minor": 5
}
